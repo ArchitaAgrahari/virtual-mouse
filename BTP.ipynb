{
 "cells": [
  {
   "cell_type": "markdown",
   "id": "7696dc77-d291-485e-9535-21f28495d006",
   "metadata": {},
   "source": [
    "# HAND GESTURE PROJECT\n",
    "LIVE MOUSE"
   ]
  },
  {
   "cell_type": "markdown",
   "id": "7abd1572-c579-48fb-a673-c81b57285b25",
   "metadata": {},
   "source": [
    "CAPTURING VIDEO"
   ]
  },
  {
   "cell_type": "code",
   "execution_count": 1,
   "id": "3c5e5943-7f86-4420-b158-12493f9800e9",
   "metadata": {},
   "outputs": [],
   "source": [
    "import cv2"
   ]
  },
  {
   "cell_type": "code",
   "execution_count": null,
   "id": "63d94e37-78e1-4390-bc4f-7d9ac8696a55",
   "metadata": {},
   "outputs": [],
   "source": [
    "def main():\n",
    "    cap = cv2.VideoCapture(0)\n",
    "\n",
    "    try:\n",
    "        while cap.isOpened():\n",
    "            ret, frame = cap.read()\n",
    "            if not ret:\n",
    "                break\n",
    "            frame = cv2.flip(frame, 1)\n",
    "        \n",
    "\n",
    "            cv2.imshow('Frame', frame)\n",
    "            if cv2.waitKey(1) & 0xFF == ord('q'):\n",
    "                break\n",
    "    finally:\n",
    "        cap.release()\n",
    "        cv2.destroyAllWindows()\n",
    "\n",
    "\n",
    "if __name__ == '__main__':\n",
    "    main()"
   ]
  },
  {
   "cell_type": "markdown",
   "id": "c663b4f4-2da9-41f8-8df1-100d84ba501d",
   "metadata": {},
   "source": [
    "# DETECTING HAND LANDMARKS"
   ]
  },
  {
   "cell_type": "code",
   "execution_count": 1,
   "id": "583e1e07-750c-4e9e-8f97-fcc531a56d32",
   "metadata": {},
   "outputs": [],
   "source": [
    "import cv2\n",
    "import mediapipe as mp"
   ]
  },
  {
   "cell_type": "code",
   "execution_count": 2,
   "id": "f66ecdb9-a1bb-4632-8b80-042ee3dd24b3",
   "metadata": {},
   "outputs": [],
   "source": [
    "mpHands = mp.solutions.hands\n",
    "hands = mpHands.Hands(\n",
    "    static_image_mode=False,\n",
    "    model_complexity=1,\n",
    "    min_detection_confidence=0.7,\n",
    "    min_tracking_confidence=0.7,\n",
    "    max_num_hands=1\n",
    ")"
   ]
  },
  {
   "cell_type": "markdown",
   "id": "bf54c627-f124-4f1a-a1d9-91352559e4ba",
   "metadata": {},
   "source": [
    "# UTILITY FILE FOR ANGLE AND DISTANCE CALCULATION"
   ]
  },
  {
   "cell_type": "code",
   "execution_count": 15,
   "id": "526ee71e-ebcc-47dd-8014-59a1fa333fed",
   "metadata": {},
   "outputs": [],
   "source": [
    "import cv2\n",
    "import mediapipe as mp\n",
    "import pyautogui\n",
    "import random\n",
    "import util\n",
    "from pynput.mouse import Button, Controller\n",
    "mouse = Controller()"
   ]
  },
  {
   "cell_type": "code",
   "execution_count": 16,
   "id": "115affcf-ccd6-48b2-b061-78dc55291b33",
   "metadata": {},
   "outputs": [],
   "source": [
    "screen_width, screen_height = pyautogui.size()\n",
    "\n",
    "mpHands = mp.solutions.hands\n",
    "hands = mpHands.Hands(\n",
    "    static_image_mode=False,\n",
    "    model_complexity=1,\n",
    "    min_detection_confidence=0.7,\n",
    "    min_tracking_confidence=0.7,\n",
    "    max_num_hands=1\n",
    ")"
   ]
  },
  {
   "cell_type": "code",
   "execution_count": 17,
   "id": "3ce81e86-126d-443f-9c09-d533e8412d6c",
   "metadata": {},
   "outputs": [],
   "source": [
    "def find_finger_tip(processed):\n",
    "    if processed.multi_hand_landmarks:\n",
    "        hand_landmarks = processed.multi_hand_landmarks[0]  # Assuming only one hand is detected\n",
    "        index_finger_tip = hand_landmarks.landmark[mpHands.HandLandmark.INDEX_FINGER_TIP]\n",
    "        return index_finger_tip\n",
    "    return None, None"
   ]
  },
  {
   "cell_type": "code",
   "execution_count": 18,
   "id": "2d1cfe1d-e663-4d3e-b079-6f82a81b733d",
   "metadata": {},
   "outputs": [],
   "source": [
    "def move_mouse(index_finger_tip):\n",
    "    if index_finger_tip is not None:\n",
    "        x = int(index_finger_tip.x * screen_width)\n",
    "        y = int(index_finger_tip.y / 2 * screen_height)\n",
    "        pyautogui.moveTo(x, y)"
   ]
  },
  {
   "cell_type": "code",
   "execution_count": 19,
   "id": "eed8417d-93e6-4e0d-b8c2-83f0735c0608",
   "metadata": {},
   "outputs": [],
   "source": [
    "def is_left_click(landmark_list, thumb_index_dist):\n",
    "    return (\n",
    "            util.get_angle(landmark_list[5], landmark_list[6], landmark_list[8]) < 50 and\n",
    "            util.get_angle(landmark_list[9], landmark_list[10], landmark_list[12]) > 90 and\n",
    "            thumb_index_dist > 50\n",
    "    )\n"
   ]
  },
  {
   "cell_type": "code",
   "execution_count": 20,
   "id": "7e843bf3-8592-4df6-a4ac-a78421eaaf39",
   "metadata": {},
   "outputs": [],
   "source": [
    "def is_right_click(landmark_list, thumb_index_dist):\n",
    "    return (\n",
    "            util.get_angle(landmark_list[9], landmark_list[10], landmark_list[12]) < 50 and\n",
    "            util.get_angle(landmark_list[5], landmark_list[6], landmark_list[8]) > 90  and\n",
    "            thumb_index_dist > 50\n",
    "    )\n"
   ]
  },
  {
   "cell_type": "code",
   "execution_count": 21,
   "id": "b22c38ef-e09d-423a-b6d6-eb2468ba74c3",
   "metadata": {},
   "outputs": [],
   "source": [
    "def is_double_click(landmark_list, thumb_index_dist):\n",
    "    return (\n",
    "            util.get_angle(landmark_list[5], landmark_list[6], landmark_list[8]) < 50 and\n",
    "            util.get_angle(landmark_list[9], landmark_list[10], landmark_list[12]) < 50 and\n",
    "            thumb_index_dist > 50\n",
    "    )"
   ]
  },
  {
   "cell_type": "code",
   "execution_count": 22,
   "id": "ed287e92-fc6f-4802-b232-11db9205e401",
   "metadata": {},
   "outputs": [],
   "source": [
    "def is_screenshot(landmark_list, thumb_index_dist):\n",
    "    return (\n",
    "            util.get_angle(landmark_list[5], landmark_list[6], landmark_list[8]) < 50 and\n",
    "            util.get_angle(landmark_list[9], landmark_list[10], landmark_list[12]) < 50 and\n",
    "            thumb_index_dist < 50\n",
    "    )"
   ]
  },
  {
   "cell_type": "code",
   "execution_count": 23,
   "id": "195a3904-9584-4d64-ae92-3c46eaa28b51",
   "metadata": {},
   "outputs": [],
   "source": [
    "def detect_gesture(frame, landmark_list, processed):\n",
    "    if len(landmark_list) >= 21:\n",
    "\n",
    "        index_finger_tip = find_finger_tip(processed)\n",
    "        thumb_index_dist = util.get_distance([landmark_list[4], landmark_list[5]])\n",
    "\n",
    "        if util.get_distance([landmark_list[4], landmark_list[5]]) < 50  and util.get_angle(landmark_list[5], landmark_list[6], landmark_list[8]) > 90:\n",
    "            move_mouse(index_finger_tip)\n",
    "        elif is_left_click(landmark_list,  thumb_index_dist):\n",
    "            mouse.press(Button.left)\n",
    "            mouse.release(Button.left)\n",
    "            cv2.putText(frame, \"Left Click\", (50, 50), cv2.FONT_HERSHEY_SIMPLEX, 1, (0, 255, 0), 2)\n",
    "        elif is_right_click(landmark_list, thumb_index_dist):\n",
    "            mouse.press(Button.right)\n",
    "            mouse.release(Button.right)\n",
    "            cv2.putText(frame, \"Right Click\", (50, 50), cv2.FONT_HERSHEY_SIMPLEX, 1, (0, 0, 255), 2)\n",
    "        elif is_double_click(landmark_list, thumb_index_dist):\n",
    "            pyautogui.doubleClick()\n",
    "            cv2.putText(frame, \"Double Click\", (50, 50), cv2.FONT_HERSHEY_SIMPLEX, 1, (255, 255, 0), 2)\n",
    "        elif is_screenshot(landmark_list,thumb_index_dist ):\n",
    "            im1 = pyautogui.screenshot()\n",
    "            label = random.randint(1, 1000)\n",
    "            im1.save(f'my_screenshot_{label}.png')\n",
    "            cv2.putText(frame, \"Screenshot Taken\", (50, 50), cv2.FONT_HERSHEY_SIMPLEX, 1, (255, 255, 0), 2)\n",
    "\n",
    "\n"
   ]
  },
  {
   "cell_type": "code",
   "execution_count": 28,
   "id": "0df05ff9-190b-4401-9d4f-6b3a9278dcff",
   "metadata": {},
   "outputs": [],
   "source": [
    "def main():\n",
    "    draw = mp.solutions.drawing_utils\n",
    "    cap = cv2.VideoCapture(0)\n",
    "\n",
    "    try:\n",
    "        while cap.isOpened():\n",
    "            ret, frame = cap.read()\n",
    "            if not ret:\n",
    "                break\n",
    "            frame = cv2.flip(frame, 1)\n",
    "            frameRGB = cv2.cvtColor(frame, cv2.COLOR_BGR2RGB)\n",
    "            processed = hands.process(frameRGB)\n",
    "\n",
    "            landmark_list = []\n",
    "            if processed.multi_hand_landmarks:\n",
    "                hand_landmarks = processed.multi_hand_landmarks[0]  # Assuming only one hand is detected\n",
    "                draw.draw_landmarks(frame, hand_landmarks, mpHands.HAND_CONNECTIONS)\n",
    "                for lm in hand_landmarks.landmark:\n",
    "                    landmark_list.append((lm.x, lm.y))\n",
    "\n",
    "            detect_gesture(frame, landmark_list, processed)\n",
    "\n",
    "            cv2.imshow('Frame', frame)\n",
    "            if cv2.waitKey(1) & 0xFF == ord('q'):\n",
    "                break\n",
    "    finally:\n",
    "        cap.release()\n",
    "        cv2.destroyAllWindows()\n",
    "\n",
    "\n",
    "if __name__ == '__main__':\n",
    "    main()"
   ]
  },
  {
   "cell_type": "code",
   "execution_count": null,
   "id": "38f901a6-9166-4e0c-99e9-b2ec568c6c92",
   "metadata": {},
   "outputs": [],
   "source": []
  },
  {
   "cell_type": "code",
   "execution_count": null,
   "id": "6e8b02b1-604f-4c5f-b3af-ed502a1c5dec",
   "metadata": {},
   "outputs": [],
   "source": []
  },
  {
   "cell_type": "code",
   "execution_count": null,
   "id": "6ab96a02-887a-48a2-8d0d-5f1824fc86ed",
   "metadata": {},
   "outputs": [],
   "source": []
  },
  {
   "cell_type": "code",
   "execution_count": null,
   "id": "0b112f5c-7a4e-4836-9264-50d591e75db2",
   "metadata": {},
   "outputs": [],
   "source": []
  },
  {
   "cell_type": "code",
   "execution_count": null,
   "id": "cd99a5e7-3876-47b2-907b-8adabd280b5f",
   "metadata": {},
   "outputs": [],
   "source": []
  },
  {
   "cell_type": "code",
   "execution_count": null,
   "id": "461766f9-2550-46e4-ae4c-a3644c4866e3",
   "metadata": {},
   "outputs": [],
   "source": []
  }
 ],
 "metadata": {
  "kernelspec": {
   "display_name": "Python 3 (ipykernel)",
   "language": "python",
   "name": "python3"
  },
  "language_info": {
   "codemirror_mode": {
    "name": "ipython",
    "version": 3
   },
   "file_extension": ".py",
   "mimetype": "text/x-python",
   "name": "python",
   "nbconvert_exporter": "python",
   "pygments_lexer": "ipython3",
   "version": "3.12.5"
  }
 },
 "nbformat": 4,
 "nbformat_minor": 5
}
